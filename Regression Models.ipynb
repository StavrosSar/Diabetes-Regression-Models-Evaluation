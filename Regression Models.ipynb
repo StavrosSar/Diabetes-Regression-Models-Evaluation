{
 "cells": [
  {
   "cell_type": "code",
   "execution_count": 311,
   "id": "4accf8e6-baa9-4068-af5b-7e8cde2b5fa4",
   "metadata": {},
   "outputs": [],
   "source": [
    "# Importing libraries\n",
    "from sklearn.datasets import load_diabetes\n",
    "from sklearn import preprocessing\n",
    "from sklearn.linear_model import LinearRegression, Lasso, Ridge, LogisticRegression\n",
    "from sklearn.metrics import mean_squared_error, mean_absolute_error, r2_score\n",
    "from sklearn.model_selection import train_test_split\n",
    "import numpy as np\n",
    "import pandas as pd\n",
    "\n",
    "# Load the diabetes dataset\n",
    "diabetes=load_diabetes()"
   ]
  },
  {
   "cell_type": "code",
   "execution_count": 313,
   "id": "33857172-91ac-4262-9e01-5ff46c41c7be",
   "metadata": {},
   "outputs": [
    {
     "name": "stdout",
     "output_type": "stream",
     "text": [
      "dict_keys(['data', 'target', 'frame', 'DESCR', 'feature_names', 'data_filename', 'target_filename', 'data_module'])\n"
     ]
    }
   ],
   "source": [
    "# Print the keys of the dataset to understand its structure\n",
    "print(diabetes.keys())"
   ]
  },
  {
   "cell_type": "code",
   "execution_count": 315,
   "id": "f10793b2-8577-4af3-8e25-b6a1ceeac5d3",
   "metadata": {},
   "outputs": [
    {
     "data": {
      "text/html": [
       "<div>\n",
       "<style scoped>\n",
       "    .dataframe tbody tr th:only-of-type {\n",
       "        vertical-align: middle;\n",
       "    }\n",
       "\n",
       "    .dataframe tbody tr th {\n",
       "        vertical-align: top;\n",
       "    }\n",
       "\n",
       "    .dataframe thead th {\n",
       "        text-align: right;\n",
       "    }\n",
       "</style>\n",
       "<table border=\"1\" class=\"dataframe\">\n",
       "  <thead>\n",
       "    <tr style=\"text-align: right;\">\n",
       "      <th></th>\n",
       "      <th>0</th>\n",
       "      <th>1</th>\n",
       "      <th>2</th>\n",
       "      <th>3</th>\n",
       "      <th>4</th>\n",
       "    </tr>\n",
       "  </thead>\n",
       "  <tbody>\n",
       "    <tr>\n",
       "      <th>age</th>\n",
       "      <td>0.038076</td>\n",
       "      <td>-0.001882</td>\n",
       "      <td>0.085299</td>\n",
       "      <td>-0.089063</td>\n",
       "      <td>0.005383</td>\n",
       "    </tr>\n",
       "    <tr>\n",
       "      <th>sex</th>\n",
       "      <td>0.050680</td>\n",
       "      <td>-0.044642</td>\n",
       "      <td>0.050680</td>\n",
       "      <td>-0.044642</td>\n",
       "      <td>-0.044642</td>\n",
       "    </tr>\n",
       "    <tr>\n",
       "      <th>bmi</th>\n",
       "      <td>0.061696</td>\n",
       "      <td>-0.051474</td>\n",
       "      <td>0.044451</td>\n",
       "      <td>-0.011595</td>\n",
       "      <td>-0.036385</td>\n",
       "    </tr>\n",
       "    <tr>\n",
       "      <th>bp</th>\n",
       "      <td>0.021872</td>\n",
       "      <td>-0.026328</td>\n",
       "      <td>-0.005670</td>\n",
       "      <td>-0.036656</td>\n",
       "      <td>0.021872</td>\n",
       "    </tr>\n",
       "    <tr>\n",
       "      <th>s1</th>\n",
       "      <td>-0.044223</td>\n",
       "      <td>-0.008449</td>\n",
       "      <td>-0.045599</td>\n",
       "      <td>0.012191</td>\n",
       "      <td>0.003935</td>\n",
       "    </tr>\n",
       "    <tr>\n",
       "      <th>s2</th>\n",
       "      <td>-0.034821</td>\n",
       "      <td>-0.019163</td>\n",
       "      <td>-0.034194</td>\n",
       "      <td>0.024991</td>\n",
       "      <td>0.015596</td>\n",
       "    </tr>\n",
       "    <tr>\n",
       "      <th>s3</th>\n",
       "      <td>-0.043401</td>\n",
       "      <td>0.074412</td>\n",
       "      <td>-0.032356</td>\n",
       "      <td>-0.036038</td>\n",
       "      <td>0.008142</td>\n",
       "    </tr>\n",
       "    <tr>\n",
       "      <th>s4</th>\n",
       "      <td>-0.002592</td>\n",
       "      <td>-0.039493</td>\n",
       "      <td>-0.002592</td>\n",
       "      <td>0.034309</td>\n",
       "      <td>-0.002592</td>\n",
       "    </tr>\n",
       "    <tr>\n",
       "      <th>s5</th>\n",
       "      <td>0.019907</td>\n",
       "      <td>-0.068332</td>\n",
       "      <td>0.002861</td>\n",
       "      <td>0.022688</td>\n",
       "      <td>-0.031988</td>\n",
       "    </tr>\n",
       "    <tr>\n",
       "      <th>s6</th>\n",
       "      <td>-0.017646</td>\n",
       "      <td>-0.092204</td>\n",
       "      <td>-0.025930</td>\n",
       "      <td>-0.009362</td>\n",
       "      <td>-0.046641</td>\n",
       "    </tr>\n",
       "  </tbody>\n",
       "</table>\n",
       "</div>"
      ],
      "text/plain": [
       "            0         1         2         3         4\n",
       "age  0.038076 -0.001882  0.085299 -0.089063  0.005383\n",
       "sex  0.050680 -0.044642  0.050680 -0.044642 -0.044642\n",
       "bmi  0.061696 -0.051474  0.044451 -0.011595 -0.036385\n",
       "bp   0.021872 -0.026328 -0.005670 -0.036656  0.021872\n",
       "s1  -0.044223 -0.008449 -0.045599  0.012191  0.003935\n",
       "s2  -0.034821 -0.019163 -0.034194  0.024991  0.015596\n",
       "s3  -0.043401  0.074412 -0.032356 -0.036038  0.008142\n",
       "s4  -0.002592 -0.039493 -0.002592  0.034309 -0.002592\n",
       "s5   0.019907 -0.068332  0.002861  0.022688 -0.031988\n",
       "s6  -0.017646 -0.092204 -0.025930 -0.009362 -0.046641"
      ]
     },
     "execution_count": 315,
     "metadata": {},
     "output_type": "execute_result"
    }
   ],
   "source": [
    "# Create a DataFrame from the diabetes dataset for easier handling and exploration\n",
    "#  Display the first few rows\n",
    "df=pd.DataFrame(diabetes.data, columns=diabetes.feature_names)\n",
    "df.head().T"
   ]
  },
  {
   "cell_type": "code",
   "execution_count": 317,
   "id": "3369769d-c27b-4b7f-af66-ac559fa80344",
   "metadata": {},
   "outputs": [
    {
     "data": {
      "text/plain": [
       "[LinearRegression(), Lasso(), Ridge(), LogisticRegression()]"
      ]
     },
     "execution_count": 317,
     "metadata": {},
     "output_type": "execute_result"
    }
   ],
   "source": [
    "# Define a list of regressors (models) to be evaluated\n",
    "# Note: LogisticRegression is typically used for classification, not regression\n",
    "regressors = [LinearRegression, Lasso, Ridge, LogisticRegression]\n",
    "models = [regressor() for regressor in regressors]\n",
    "\n",
    "# Print the models to confirm their instantiation\n",
    "models"
   ]
  },
  {
   "cell_type": "code",
   "execution_count": 319,
   "id": "1376a3e3-6b8e-4bd6-bc33-2e7632c7c2e8",
   "metadata": {},
   "outputs": [],
   "source": [
    "# Split the dataset into features (X) and target variable (y)\n",
    "X, y = diabetes.data, diabetes.target"
   ]
  },
  {
   "cell_type": "code",
   "execution_count": 320,
   "id": "5b4705a9-2e5a-4c70-8a3e-2d6825aa76b9",
   "metadata": {},
   "outputs": [
    {
     "name": "stdout",
     "output_type": "stream",
     "text": [
      "We are using 309 samples for training the 4 models and 133 samples for testing them later.\n"
     ]
    }
   ],
   "source": [
    "# Split the data into training and testing sets\n",
    "X_train, X_test, y_train, y_test = train_test_split(X,y,random_state=42,test_size=0.3)\n",
    "print('We are using', len(X_train),'samples for training the', len(models),'models and',len(y_test),'samples for testing them later.')"
   ]
  },
  {
   "cell_type": "code",
   "execution_count": 323,
   "id": "6722e8d2-c46d-42bc-b2a5-39e1bc5c8b9e",
   "metadata": {},
   "outputs": [],
   "source": [
    "# Normalize the feature data\n",
    "X_train_scaled = preprocessing.normalize(X_train)\n",
    "X_test_scaled = preprocessing.normalize(X_test)"
   ]
  },
  {
   "cell_type": "code",
   "execution_count": 325,
   "id": "c09a95aa-0abf-4f81-bac6-1b14f8a5fa82",
   "metadata": {},
   "outputs": [],
   "source": [
    "mae = []\n",
    "mse = []\n",
    "r_sq = []\n",
    "\n",
    "# Iterate over each model, fit it to the training data, and evaluate its performance\n",
    "for m in models:\n",
    "    reg = m.fit(X_train_scaled, y_train)\n",
    "    y_pred_2 = reg.predict(X_test_scaled)\n",
    "    mse.append(mean_squared_error(y_test, y_pred_2))\n",
    "    mae.append(mean_absolute_error(y_test,y_pred_2))\n",
    "    r_sq.append(r2_score(y_test,y_pred_2))"
   ]
  },
  {
   "cell_type": "code",
   "execution_count": 302,
   "id": "f60a86ae-8b1a-41c1-8956-b523ed51156a",
   "metadata": {},
   "outputs": [
    {
     "name": "stdout",
     "output_type": "stream",
     "text": [
      "LinearRegression()\n",
      "MAE: 40.736898019933435, MSE: 2720.386759603146, R_SQUARED: 0.49606675284241863\n",
      "\n",
      "Lasso()\n",
      "MAE: 40.900624425802896, MSE: 2687.6607682381223, R_SQUARED: 0.5021290213918486\n",
      "\n",
      "Ridge()\n",
      "MAE: 40.667764498676306, MSE: 2712.643203305392, R_SQUARED: 0.4975011942709764\n",
      "\n",
      "LogisticRegression()\n",
      "MAE: 56.954887218045116, MSE: 5291.736842105263, R_SQUARED: 0.019741542068624884\n",
      "\n"
     ]
    }
   ],
   "source": [
    "# Print the performance metrics for each model\n",
    "for i,m in enumerate(models):\n",
    "    print(f\"{str(m)}\") \n",
    "    print(f\"MAE: {mae[i]}, MSE: {mse[i]}, R_SQUARED: {r_sq[i]}\\n\")"
   ]
  }
 ],
 "metadata": {
  "kernelspec": {
   "display_name": "Python 3 (ipykernel)",
   "language": "python",
   "name": "python3"
  },
  "language_info": {
   "codemirror_mode": {
    "name": "ipython",
    "version": 3
   },
   "file_extension": ".py",
   "mimetype": "text/x-python",
   "name": "python",
   "nbconvert_exporter": "python",
   "pygments_lexer": "ipython3",
   "version": "3.11.7"
  },
  "widgets": {
   "application/vnd.jupyter.widget-state+json": {
    "state": {},
    "version_major": 2,
    "version_minor": 0
   }
  }
 },
 "nbformat": 4,
 "nbformat_minor": 5
}
